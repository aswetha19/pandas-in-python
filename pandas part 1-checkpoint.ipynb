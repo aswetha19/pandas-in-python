{
 "cells": [
  {
   "cell_type": "code",
   "execution_count": 2,
   "id": "e64d0bc9",
   "metadata": {},
   "outputs": [
    {
     "name": "stdout",
     "output_type": "stream",
     "text": [
      "Defaulting to user installation because normal site-packages is not writeableNote: you may need to restart the kernel to use updated packages.\n",
      "\n",
      "Requirement already satisfied: pandas in c:\\programdata\\anaconda3\\lib\\site-packages (1.4.4)\n",
      "Requirement already satisfied: pytz>=2020.1 in c:\\programdata\\anaconda3\\lib\\site-packages (from pandas) (2022.1)\n",
      "Requirement already satisfied: python-dateutil>=2.8.1 in c:\\programdata\\anaconda3\\lib\\site-packages (from pandas) (2.8.2)\n",
      "Requirement already satisfied: numpy>=1.18.5 in c:\\programdata\\anaconda3\\lib\\site-packages (from pandas) (1.21.5)\n",
      "Requirement already satisfied: six>=1.5 in c:\\programdata\\anaconda3\\lib\\site-packages (from python-dateutil>=2.8.1->pandas) (1.16.0)\n"
     ]
    }
   ],
   "source": [
    "pip install pandas"
   ]
  },
  {
   "cell_type": "code",
   "execution_count": null,
   "id": "f1a90dfd-974e-4131-b3eb-4c63fd8c72ce",
   "metadata": {},
   "outputs": [],
   "source": []
  },
  {
   "cell_type": "code",
   "execution_count": null,
   "id": "74677134-768e-4b21-9155-ecd357e767f3",
   "metadata": {},
   "outputs": [],
   "source": []
  },
  {
   "cell_type": "code",
   "execution_count": null,
   "id": "425b1c15-418f-4754-b5f1-7e9646442e05",
   "metadata": {},
   "outputs": [],
   "source": []
  },
  {
   "cell_type": "code",
   "execution_count": 3,
   "id": "7a051582",
   "metadata": {},
   "outputs": [],
   "source": [
    "import pandas as pd\n",
    "import numpy as np"
   ]
  },
  {
   "cell_type": "code",
   "execution_count": 4,
   "id": "282a6673",
   "metadata": {},
   "outputs": [
    {
     "name": "stdout",
     "output_type": "stream",
     "text": [
      "0    p\n",
      "1    a\n",
      "2    n\n",
      "3    d\n",
      "4    a\n",
      "5    s\n",
      "dtype: object\n",
      "1\n"
     ]
    }
   ],
   "source": [
    "# data structures\n",
    "# series type(one-dimensional)\n",
    "# creating a series from arrays\n",
    "\n",
    "x=np.array(['p','a','n','d','a','s'])\n",
    "y=pd.Series(x)\n",
    "print(y)\n",
    "print(y.ndim)\n"
   ]
  },
  {
   "cell_type": "code",
   "execution_count": 5,
   "id": "e73a7913",
   "metadata": {},
   "outputs": [
    {
     "name": "stdout",
     "output_type": "stream",
     "text": [
      "0    1\n",
      "1    2\n",
      "2    3\n",
      "3    4\n",
      "4    5\n",
      "dtype: int64\n"
     ]
    }
   ],
   "source": [
    "# creating a series from list\n",
    "list1=[1,2,3,4,5]\n",
    "x1=pd.Series(list1)\n",
    "print(x1)"
   ]
  },
  {
   "cell_type": "code",
   "execution_count": 6,
   "id": "46b18d9d",
   "metadata": {},
   "outputs": [
    {
     "name": "stdout",
     "output_type": "stream",
     "text": [
      "x    0\n",
      "y    1\n",
      "z    2\n",
      "dtype: int64\n"
     ]
    }
   ],
   "source": [
    "# creating a series from dictionary\n",
    "d={'x':0,'y':1,'z':2}\n",
    "x2=pd.Series(d)\n",
    "print(x2)"
   ]
  },
  {
   "cell_type": "code",
   "execution_count": 7,
   "id": "958c15fe",
   "metadata": {
    "scrolled": true
   },
   "outputs": [
    {
     "name": "stdout",
     "output_type": "stream",
     "text": [
      "x    0.0\n",
      "y    1.0\n",
      "z    2.0\n",
      "dtype: float64\n"
     ]
    }
   ],
   "source": [
    "d={'x':0.,'y':1.,'z':2.}\n",
    "x2=pd.Series(d)\n",
    "print(x2)"
   ]
  },
  {
   "cell_type": "code",
   "execution_count": 8,
   "id": "c7a8692e",
   "metadata": {},
   "outputs": [],
   "source": [
    "# in series data structure we are converting a list,array and dict into a one-dimensional array"
   ]
  },
  {
   "cell_type": "code",
   "execution_count": 9,
   "id": "936c931d",
   "metadata": {},
   "outputs": [
    {
     "name": "stdout",
     "output_type": "stream",
     "text": [
      "          0\n",
      "0     apple\n",
      "1  babanana\n",
      "2    orange\n",
      "3      kiwi\n"
     ]
    }
   ],
   "source": [
    "# dataframe(converting the data in the form of rows and columns that means 2-Dimensional )\n",
    "# you can create dataframe from (list,list of tuples,dict,excel spreadsheets and .csv files)\n",
    "# creating a dataframe from list\n",
    "a1=[\"apple\",\"babanana\",\"orange\",\"kiwi\"]\n",
    "df=pd.DataFrame(a1)\n",
    "print(df)"
   ]
  },
  {
   "cell_type": "code",
   "execution_count": 10,
   "id": "1d8e5f30",
   "metadata": {},
   "outputs": [
    {
     "name": "stdout",
     "output_type": "stream",
     "text": [
      "          0    1\n",
      "0     apple  100\n",
      "1  babanana  200\n",
      "2    orange  300\n",
      "3      kiwi  400\n"
     ]
    }
   ],
   "source": [
    "# creating a dataframe from list of lists\n",
    "a2=[[\"apple\",100],[\"babanana\",200],[\"orange\",300],[\"kiwi\",400]]\n",
    "df1=pd.DataFrame(a2)\n",
    "print(df1)"
   ]
  },
  {
   "cell_type": "code",
   "execution_count": 11,
   "id": "c3ba7bd1",
   "metadata": {},
   "outputs": [
    {
     "name": "stdout",
     "output_type": "stream",
     "text": [
      "    fruit  price\n",
      "0   apple    100\n",
      "1  banana    200\n",
      "2  orange    300\n",
      "3    kiwi    400\n"
     ]
    }
   ],
   "source": [
    "a2=[[\"apple\",100],[\"banana\",200],[\"orange\",300],[\"kiwi\",400]]\n",
    "df1=pd.DataFrame(a2,columns=[\"fruit\",\"price\"])\n",
    "print(df1)\n"
   ]
  },
  {
   "cell_type": "code",
   "execution_count": 12,
   "id": "e6753e56",
   "metadata": {},
   "outputs": [
    {
     "name": "stdout",
     "output_type": "stream",
     "text": [
      "        0    1\n",
      "0   apple  100\n",
      "1  banana  200\n",
      "2  orange  300\n",
      "3    kiwi  400\n"
     ]
    }
   ],
   "source": [
    "# creating a dataframe from list of tuples\n",
    "a3=[(\"apple\",100),(\"banana\",200),(\"orange\",300),(\"kiwi\",400)]\n",
    "df2=pd.DataFrame(a3)\n",
    "print(df2)"
   ]
  },
  {
   "cell_type": "code",
   "execution_count": 13,
   "id": "3e51dd52",
   "metadata": {},
   "outputs": [
    {
     "name": "stdout",
     "output_type": "stream",
     "text": [
      "    friut  rate\n",
      "0   apple   100\n",
      "1  banana   200\n",
      "2  orange   300\n",
      "3    kiwi   400\n"
     ]
    }
   ],
   "source": [
    "a3=[(\"apple\",100),(\"banana\",200),(\"orange\",300),(\"kiwi\",400)]\n",
    "df2=pd.DataFrame(a3,columns=[\"friut\",\"rate\"])\n",
    "print(df2)"
   ]
  },
  {
   "cell_type": "code",
   "execution_count": 14,
   "id": "f5dd1a30",
   "metadata": {},
   "outputs": [
    {
     "name": "stdout",
     "output_type": "stream",
     "text": [
      "       gender   age  hypertension  heart_disease smoking_history    bmi  \\\n",
      "0      Female  80.0             0              1           never  25.19   \n",
      "1      Female  54.0             0              0         No Info  27.32   \n",
      "2        Male  28.0             0              0           never  27.32   \n",
      "3      Female  36.0             0              0         current  23.45   \n",
      "4        Male  76.0             1              1         current  20.14   \n",
      "...       ...   ...           ...            ...             ...    ...   \n",
      "99995  Female  80.0             0              0         No Info  27.32   \n",
      "99996  Female   2.0             0              0         No Info  17.37   \n",
      "99997    Male  66.0             0              0          former  27.83   \n",
      "99998  Female  24.0             0              0           never  35.42   \n",
      "99999  Female  57.0             0              0         current  22.43   \n",
      "\n",
      "       HbA1c_level  blood_glucose_level  diabetes  \n",
      "0              6.6                  140         0  \n",
      "1              6.6                   80         0  \n",
      "2              5.7                  158         0  \n",
      "3              5.0                  155         0  \n",
      "4              4.8                  155         0  \n",
      "...            ...                  ...       ...  \n",
      "99995          6.2                   90         0  \n",
      "99996          6.5                  100         0  \n",
      "99997          5.7                  155         0  \n",
      "99998          4.0                  100         0  \n",
      "99999          6.6                   90         0  \n",
      "\n",
      "[100000 rows x 9 columns]\n"
     ]
    }
   ],
   "source": [
    "# creating a dataframe from .csv files\n",
    "df5=pd.read_csv(r\"C:\\Users\\pslas\\OneDrive\\Desktop\\DATA SET CSV\\diabetes data.csv\")\n",
    "print(df5)"
   ]
  },
  {
   "cell_type": "code",
   "execution_count": 28,
   "id": "fedce89d-eb04-436a-8567-d19d09b63a54",
   "metadata": {},
   "outputs": [
    {
     "name": "stdout",
     "output_type": "stream",
     "text": [
      "       gender   age  hypertension  heart_disease smoking_history    bmi  \\\n",
      "0      Female  80.0             0              1           never  25.19   \n",
      "1      Female  54.0             0              0         No Info  27.32   \n",
      "2        Male  28.0             0              0           never  27.32   \n",
      "3      Female  36.0             0              0         current  23.45   \n",
      "4        Male  76.0             1              1         current  20.14   \n",
      "...       ...   ...           ...            ...             ...    ...   \n",
      "99995  Female  80.0             0              0         No Info  27.32   \n",
      "99996  Female   2.0             0              0         No Info  17.37   \n",
      "99997    Male  66.0             0              0          former  27.83   \n",
      "99998  Female  24.0             0              0           never  35.42   \n",
      "99999  Female  57.0             0              0         current  22.43   \n",
      "\n",
      "       HbA1c_level  blood_glucose_level  diabetes  \n",
      "0              6.6                  140         0  \n",
      "1              6.6                   80         0  \n",
      "2              5.7                  158         0  \n",
      "3              5.0                  155         0  \n",
      "4              4.8                  155         0  \n",
      "...            ...                  ...       ...  \n",
      "99995          6.2                   90         0  \n",
      "99996          6.5                  100         0  \n",
      "99997          5.7                  155         0  \n",
      "99998          4.0                  100         0  \n",
      "99999          6.6                   90         0  \n",
      "\n",
      "[100000 rows x 9 columns]\n"
     ]
    }
   ],
   "source": [
    "df4=pd.read_csv(r\"C:\\Users\\pslas\\OneDrive\\Desktop\\DATA SET CSV\\diabetes data.csv\")\n",
    "print(df4)"
   ]
  },
  {
   "cell_type": "code",
   "execution_count": 13,
   "id": "49419c53",
   "metadata": {},
   "outputs": [
    {
     "name": "stdout",
     "output_type": "stream",
     "text": [
      "(100000, 9)\n",
      "100000\n",
      "9\n"
     ]
    }
   ],
   "source": [
    "# essentional functionality\n",
    "# to find no of rows and columns in a dataset then we are using .shape function...\n",
    "df5=pd.read_csv(r\"C:\\Users\\pslas\\OneDrive\\Desktop\\DATA SET CSV\\diabetes data.csv\")\n",
    "a=df5.shape\n",
    "print(a)\n",
    "\n",
    "# suppose if you want to know omly no of rows and no of columns\n",
    "r,c=df5.shape\n",
    "print(r)\n",
    "print(c)"
   ]
  },
  {
   "cell_type": "code",
   "execution_count": 12,
   "id": "c6fbf86f-c67a-4c81-a8bc-0a614d47a0d2",
   "metadata": {},
   "outputs": [
    {
     "name": "stdout",
     "output_type": "stream",
     "text": [
      "   Row ID        Order ID Order Date  Ship Date       Ship Mode Customer ID  \\\n",
      "0       1  CA-2018-152156 2018-11-08 2018-11-11    Second Class    CG-12520   \n",
      "1       2  CA-2018-152156 2018-11-08 2018-11-11    Second Class    CG-12520   \n",
      "2       3  CA-2018-138688 2018-06-12 2018-06-16    Second Class    DV-13045   \n",
      "3       4  US-2017-108966 2017-10-11 2017-10-18  Standard Class    SO-20335   \n",
      "4       5  US-2017-108966 2017-10-11 2017-10-18  Standard Class    SO-20335   \n",
      "\n",
      "     Customer Name    Segment Country/Region             City  ...  \\\n",
      "0      Claire Gute   Consumer  United States        Henderson  ...   \n",
      "1      Claire Gute   Consumer  United States        Henderson  ...   \n",
      "2  Darrin Van Huff  Corporate  United States      Los Angeles  ...   \n",
      "3   Sean O'Donnell   Consumer  United States  Fort Lauderdale  ...   \n",
      "4   Sean O'Donnell   Consumer  United States  Fort Lauderdale  ...   \n",
      "\n",
      "  Postal Code  Region       Product ID         Category Sub-Category  \\\n",
      "0     42420.0   South  FUR-BO-10001798        Furniture    Bookcases   \n",
      "1     42420.0   South  FUR-CH-10000454        Furniture       Chairs   \n",
      "2     90036.0    West  OFF-LA-10000240  Office Supplies       Labels   \n",
      "3     33311.0   South  FUR-TA-10000577        Furniture       Tables   \n",
      "4     33311.0   South  OFF-ST-10000760  Office Supplies      Storage   \n",
      "\n",
      "                                        Product Name     Sales  Quantity  \\\n",
      "0                  Bush Somerset Collection Bookcase  261.9600         2   \n",
      "1  Hon Deluxe Fabric Upholstered Stacking Chairs,...  731.9400         3   \n",
      "2  Self-Adhesive Address Labels for Typewriters b...   14.6200         2   \n",
      "3      Bretford CR4500 Series Slim Rectangular Table  957.5775         5   \n",
      "4                     Eldon Fold 'N Roll Cart System   22.3680         2   \n",
      "\n",
      "   Discount    Profit  \n",
      "0      0.00   41.9136  \n",
      "1      0.00  219.5820  \n",
      "2      0.00    6.8714  \n",
      "3      0.45 -383.0310  \n",
      "4      0.20    2.5164  \n",
      "\n",
      "[5 rows x 21 columns]\n"
     ]
    }
   ],
   "source": [
    "import pandas as pd\n",
    "\n",
    "# Read Excel file\n",
    "df = pd.read_excel(r\"C:\\Users\\pslas\\OneDrive\\Desktop\\SampleSuperstore.xls\")\n",
    "\n",
    "# Display the first 5 rows\n",
    "print(df.head())"
   ]
  },
  {
   "cell_type": "code",
   "execution_count": 11,
   "id": "3d95f11a",
   "metadata": {},
   "outputs": [
    {
     "name": "stdout",
     "output_type": "stream",
     "text": [
      "   hi  bye\n",
      "0   1    4\n",
      "1   2   45\n",
      "2   3  678\n"
     ]
    }
   ],
   "source": [
    "# creating a dataframe from dictionary\n",
    "est={\"hi\":[1,2,3],\"bye\":[4,45,678]}\n",
    "df3=pd.DataFrame(est)\n",
    "print(df3)\n"
   ]
  },
  {
   "cell_type": "code",
   "execution_count": 15,
   "id": "d88310a9",
   "metadata": {},
   "outputs": [
    {
     "name": "stdout",
     "output_type": "stream",
     "text": [
      "   gender   age  hypertension  heart_disease smoking_history    bmi  \\\n",
      "0  Female  80.0             0              1           never  25.19   \n",
      "1  Female  54.0             0              0         No Info  27.32   \n",
      "2    Male  28.0             0              0           never  27.32   \n",
      "3  Female  36.0             0              0         current  23.45   \n",
      "4    Male  76.0             1              1         current  20.14   \n",
      "\n",
      "   HbA1c_level  blood_glucose_level  diabetes  \n",
      "0          6.6                  140         0  \n",
      "1          6.6                   80         0  \n",
      "2          5.7                  158         0  \n",
      "3          5.0                  155         0  \n",
      "4          4.8                  155         0  \n",
      "   gender   age  hypertension  heart_disease smoking_history    bmi  \\\n",
      "0  Female  80.0             0              1           never  25.19   \n",
      "1  Female  54.0             0              0         No Info  27.32   \n",
      "2    Male  28.0             0              0           never  27.32   \n",
      "\n",
      "   HbA1c_level  blood_glucose_level  diabetes  \n",
      "0          6.6                  140         0  \n",
      "1          6.6                   80         0  \n",
      "2          5.7                  158         0  \n"
     ]
    }
   ],
   "source": [
    "# to retrive rows from dataframe\n",
    "\n",
    "df=pd.read_csv(r\"C:\\Users\\pslas\\OneDrive\\Desktop\\DATA SET CSV\\diabetes data.csv\")\n",
    "# if you want to see top 5 rows in a dataset then you need to use .head() function...\n",
    "top=df.head()\n",
    "print(top)\n",
    "\n",
    "# top 3 rows in a dataset\n",
    "top1=df.head(3)\n",
    "print(top1)"
   ]
  },
  {
   "cell_type": "code",
   "execution_count": 16,
   "id": "1d90f17d",
   "metadata": {},
   "outputs": [
    {
     "name": "stdout",
     "output_type": "stream",
     "text": [
      "       gender   age  hypertension  heart_disease smoking_history    bmi  \\\n",
      "99995  Female  80.0             0              0         No Info  27.32   \n",
      "99996  Female   2.0             0              0         No Info  17.37   \n",
      "99997    Male  66.0             0              0          former  27.83   \n",
      "99998  Female  24.0             0              0           never  35.42   \n",
      "99999  Female  57.0             0              0         current  22.43   \n",
      "\n",
      "       HbA1c_level  blood_glucose_level  diabetes  \n",
      "99995          6.2                   90         0  \n",
      "99996          6.5                  100         0  \n",
      "99997          5.7                  155         0  \n",
      "99998          4.0                  100         0  \n",
      "99999          6.6                   90         0  \n",
      "       gender   age  hypertension  heart_disease smoking_history    bmi  \\\n",
      "99997    Male  66.0             0              0          former  27.83   \n",
      "99998  Female  24.0             0              0           never  35.42   \n",
      "99999  Female  57.0             0              0         current  22.43   \n",
      "\n",
      "       HbA1c_level  blood_glucose_level  diabetes  \n",
      "99997          5.7                  155         0  \n",
      "99998          4.0                  100         0  \n",
      "99999          6.6                   90         0  \n"
     ]
    }
   ],
   "source": [
    "df=pd.read_csv(r\"C:\\Users\\pslas\\OneDrive\\Desktop\\DATA SET CSV\\diabetes data.csv\")\n",
    "# if you want to see bottom 5 rows in a dataset then you need to use .tail() function...\n",
    "bottom=df.tail()\n",
    "print(bottom)\n",
    "\n",
    "# bottom 3 rows in a dataset\n",
    "bottom1=df.tail(3)\n",
    "print(bottom1)"
   ]
  },
  {
   "cell_type": "code",
   "execution_count": 17,
   "id": "1d32c79e",
   "metadata": {},
   "outputs": [
    {
     "name": "stdout",
     "output_type": "stream",
     "text": [
      "   gender   age  hypertension  heart_disease smoking_history    bmi  \\\n",
      "2    Male  28.0             0              0           never  27.32   \n",
      "3  Female  36.0             0              0         current  23.45   \n",
      "\n",
      "   HbA1c_level  blood_glucose_level  diabetes  \n",
      "2          5.7                  158         0  \n",
      "3          5.0                  155         0  \n"
     ]
    }
   ],
   "source": [
    "# to retrive a range of rows\n",
    "\n",
    "df=pd.read_csv(r\"C:\\Users\\pslas\\OneDrive\\Desktop\\DATA SET CSV\\diabetes data.csv\")\n",
    "a=df[2:4]\n",
    "print(a)"
   ]
  },
  {
   "cell_type": "code",
   "execution_count": 18,
   "id": "2aa02350",
   "metadata": {},
   "outputs": [
    {
     "name": "stdout",
     "output_type": "stream",
     "text": [
      "Index(['gender', 'age', 'hypertension', 'heart_disease', 'smoking_history',\n",
      "       'bmi', 'HbA1c_level', 'blood_glucose_level', 'diabetes'],\n",
      "      dtype='object')\n"
     ]
    }
   ],
   "source": [
    "# to retrive column names\n",
    "# suppose if you want to know what kinds of attributes are their in your dataset\n",
    "\n",
    "df=pd.read_csv(r\"C:\\Users\\pslas\\OneDrive\\Desktop\\DATA SET CSV\\diabetes data.csv\")\n",
    "a=df.columns\n",
    "print(a)"
   ]
  },
  {
   "cell_type": "code",
   "execution_count": 22,
   "id": "71a65819",
   "metadata": {},
   "outputs": [
    {
     "name": "stdout",
     "output_type": "stream",
     "text": [
      "       gender   age\n",
      "0      Female  80.0\n",
      "1      Female  54.0\n",
      "2        Male  28.0\n",
      "3      Female  36.0\n",
      "4        Male  76.0\n",
      "...       ...   ...\n",
      "99995  Female  80.0\n",
      "99996  Female   2.0\n",
      "99997    Male  66.0\n",
      "99998  Female  24.0\n",
      "99999  Female  57.0\n",
      "\n",
      "[100000 rows x 2 columns]\n"
     ]
    }
   ],
   "source": [
    "# to retrive column data\n",
    "\n",
    "df=pd.read_csv(r\"C:\\Users\\pslas\\OneDrive\\Desktop\\DATA SET CSV\\diabetes data.csv\")\n",
    "c=df[['gender','age']]\n",
    "print(c)"
   ]
  },
  {
   "cell_type": "code",
   "execution_count": 25,
   "id": "50fee82d",
   "metadata": {},
   "outputs": [
    {
     "name": "stdout",
     "output_type": "stream",
     "text": [
      "1\n",
      "0\n"
     ]
    }
   ],
   "source": [
    "# to find maximum and minimum values in your dataset\n",
    "\n",
    "df=pd.read_csv(r\"C:\\Users\\pslas\\OneDrive\\Desktop\\DATA SET CSV\\diabetes data.csv\")\n",
    "a=df['hypertension'].max()\n",
    "b=df['hypertension'].min()\n",
    "print(a)\n",
    "print(b)"
   ]
  },
  {
   "cell_type": "code",
   "execution_count": 29,
   "id": "28f5b834",
   "metadata": {
    "scrolled": true
   },
   "outputs": [
    {
     "name": "stdout",
     "output_type": "stream",
     "text": [
      "       gender    age  hypertension  heart_disease smoking_history    bmi  \\\n",
      "67326    Male   0.08             0              0         No Info  11.05   \n",
      "34663    Male   0.08             0              0         No Info  27.32   \n",
      "9683   Female   0.08             0              0         No Info  11.88   \n",
      "53735    Male   0.08             0              0         No Info  12.08   \n",
      "98965  Female   0.08             0              0         No Info  12.50   \n",
      "...       ...    ...           ...            ...             ...    ...   \n",
      "63255  Female  80.00             0              0         No Info  27.32   \n",
      "63308  Female  80.00             1              1           never  22.93   \n",
      "63342  Female  80.00             0              0          former  34.51   \n",
      "63371  Female  80.00             0              0           never  29.70   \n",
      "49999  Female  80.00             0              0         No Info  27.32   \n",
      "\n",
      "       HbA1c_level  blood_glucose_level  diabetes  \n",
      "67326          4.5                  200         0  \n",
      "34663          5.8                  155         0  \n",
      "9683           5.7                   80         0  \n",
      "53735          6.2                  158         0  \n",
      "98965          4.5                  155         0  \n",
      "...            ...                  ...       ...  \n",
      "63255          6.6                  126         0  \n",
      "63308          7.5                  300         1  \n",
      "63342          4.8                  158         0  \n",
      "63371          5.7                  155         0  \n",
      "49999          3.5                   90         0  \n",
      "\n",
      "[100000 rows x 9 columns]\n"
     ]
    }
   ],
   "source": [
    "# sorting the data\n",
    "df=pd.read_csv(r\"C:\\Users\\pslas\\OneDrive\\Desktop\\DATA SET CSV\\diabetes data.csv\")\n",
    "a=df.sort_values(\"age\")\n",
    "print(a)"
   ]
  },
  {
   "cell_type": "code",
   "execution_count": 33,
   "id": "463626f5",
   "metadata": {},
   "outputs": [
    {
     "name": "stdout",
     "output_type": "stream",
     "text": [
      "       gender    age  hypertension  heart_disease smoking_history    bmi  \\\n",
      "0      Female  80.00             0              1           never  25.19   \n",
      "58420    Male  80.00             0              0           never  30.38   \n",
      "57864  Female  80.00             0              0           never  30.29   \n",
      "57875    Male  80.00             1              0           never  27.32   \n",
      "8129   Female  80.00             0              0     not current  26.66   \n",
      "...       ...    ...           ...            ...             ...    ...   \n",
      "30060    Male   0.08             0              0         No Info  12.89   \n",
      "16028    Male   0.08             0              0         No Info  14.40   \n",
      "40039  Female   0.08             0              0         No Info  14.26   \n",
      "92964    Male   0.08             0              0         No Info  12.10   \n",
      "33684    Male   0.08             0              0         No Info  30.64   \n",
      "\n",
      "       HbA1c_level  blood_glucose_level  diabetes  \n",
      "0              6.6                  140         0  \n",
      "58420          8.2                  130         1  \n",
      "57864          4.0                   80         0  \n",
      "57875          6.5                  200         1  \n",
      "8129           6.1                  200         0  \n",
      "...            ...                  ...       ...  \n",
      "30060          6.5                  145         0  \n",
      "16028          6.0                   90         0  \n",
      "40039          6.5                  160         0  \n",
      "92964          6.1                  159         0  \n",
      "33684          6.6                  130         0  \n",
      "\n",
      "[100000 rows x 9 columns]\n"
     ]
    }
   ],
   "source": [
    "df=pd.read_csv(r\"C:\\Users\\pslas\\OneDrive\\Desktop\\DATA SET CSV\\diabetes data.csv\")\n",
    "a=df.sort_values(\"age\",ascending=False)\n",
    "print(a)"
   ]
  },
  {
   "cell_type": "code",
   "execution_count": 29,
   "id": "f383e814",
   "metadata": {},
   "outputs": [
    {
     "name": "stdout",
     "output_type": "stream",
     "text": [
      "DataFrame...\n",
      "   Student Result\n",
      "0      hi   pass\n",
      "1     bye   fail\n",
      "2      ok   pass\n",
      "3     hmm   fail\n",
      "reshaped dataframe...\n",
      "   Student  Result\n",
      "0      hi       1\n",
      "1     bye       0\n",
      "2      ok       1\n",
      "3     hmm       0\n"
     ]
    }
   ],
   "source": [
    "#reshaping the data\n",
    "# that means we are coverting categorical data into numerical data\n",
    "df=pd.DataFrame(\n",
    "    {\n",
    "        \"Student\": [\"hi\",\"bye\",\"ok\",\"hmm\",],\n",
    "        \"Result\": [\"pass\",\"fail\",\"pass\",\"fail\"]       \n",
    "    }\n",
    ")\n",
    "print(\"DataFrame...\\n\",df)\n",
    "df[\"Result\"]=df[\"Result\"].map({\"pass\":1,\"fail\":0,})\n",
    "print('reshaped dataframe...\\n',df)"
   ]
  },
  {
   "cell_type": "code",
   "execution_count": 34,
   "id": "c7ae98af",
   "metadata": {},
   "outputs": [
    {
     "name": "stdout",
     "output_type": "stream",
     "text": [
      "0        1\n",
      "1        0\n",
      "2        0\n",
      "3        0\n",
      "4        1\n",
      "        ..\n",
      "99995    0\n",
      "99996    0\n",
      "99997    0\n",
      "99998    0\n",
      "99999    0\n",
      "Name: heart_disease, Length: 100000, dtype: int64\n"
     ]
    }
   ],
   "source": [
    "# retriving multiple columns\n",
    "df=pd.read_csv(r\"C:\\Users\\pslas\\OneDrive\\Desktop\\DATA SET CSV\\diabetes data.csv\")\n",
    "b1=df[\"heart_disease\"]\n",
    "print(b1)"
   ]
  },
  {
   "cell_type": "code",
   "execution_count": 38,
   "id": "ec78488c",
   "metadata": {},
   "outputs": [
    {
     "name": "stdout",
     "output_type": "stream",
     "text": [
      "      EMPID     ENAME  SALARY         DOJ\n",
      "0  0      1      siva   15000   10/2/2002\n",
      "1  1      2       sai   23000   11/5/2003\n",
      "2  2      3   sandeep   54000    9/3/2002\n",
      "3  3      4    sanjay   12500  16/12/1995\n",
      "4  4      5  santhosh   17000  13/06/2010\n",
      "5  5      6  srikanth    9000  24/09/1999\n"
     ]
    }
   ],
   "source": [
    "df=pd.read_csv(r\"C:\\Users\\pslas\\OneDrive\\Documents\\Book5.csv\")\n",
    "print(df)"
   ]
  },
  {
   "cell_type": "code",
   "execution_count": 35,
   "id": "3c6a188c",
   "metadata": {},
   "outputs": [
    {
     "name": "stdout",
     "output_type": "stream",
     "text": [
      "          EMPID  SALARY         DOJ\n",
      "ENAME                              \n",
      "sai           2   23000   11/5/2003\n",
      "santhosh      5   17000  13/06/2010\n"
     ]
    }
   ],
   "source": [
    "# selecting multiple rows by using .loc[]:\n",
    "df=pd.read_csv(r\"C:\\Users\\pslas\\OneDrive\\Documents\\Book5.csv\",index_col=\"ENAME\")\n",
    "a2=df.loc[[\"sai\",\"santhosh\"]]\n",
    "print(a2)"
   ]
  },
  {
   "cell_type": "code",
   "execution_count": 36,
   "id": "8c1b2c66",
   "metadata": {},
   "outputs": [
    {
     "name": "stdout",
     "output_type": "stream",
     "text": [
      "         SALARY        DOJ\n",
      "ENAME                     \n",
      "sai       23000  11/5/2003\n",
      "sandeep   54000   9/3/2002\n"
     ]
    }
   ],
   "source": [
    "# selecting two rows and two columns by using .loc[]:\n",
    "\n",
    "df=pd.read_csv(\"C:\\Book5.csv\",index_col=\"ENAME\")\n",
    "s1=df.loc[[\"sai\",\"sandeep\"],[\"SALARY\",\"DOJ\"]]\n",
    "print(s1)\n"
   ]
  },
  {
   "cell_type": "code",
   "execution_count": 37,
   "id": "6853c686",
   "metadata": {},
   "outputs": [
    {
     "name": "stdout",
     "output_type": "stream",
     "text": [
      "          EMPID  SALARY\n",
      "ENAME                  \n",
      "siva          1   15000\n",
      "sai           2   23000\n",
      "sandeep       3   54000\n",
      "sanjay        4   12500\n",
      "santhosh      5   17000\n",
      "srikanth      6    9000\n"
     ]
    }
   ],
   "source": [
    "# here we are selecting all rows and some columns by using.loc[]:\n",
    "df=pd.read_csv(\"C:\\Book5.csv\",index_col=\"ENAME\")\n",
    "c1=df.loc[:,[\"EMPID\",\"SALARY\"]]\n",
    "print(c1)\n"
   ]
  },
  {
   "cell_type": "code",
   "execution_count": 38,
   "id": "a6c33ba2",
   "metadata": {},
   "outputs": [
    {
     "name": "stdout",
     "output_type": "stream",
     "text": [
      "EMPID              4\n",
      "SALARY         12500\n",
      "DOJ       16/12/1995\n",
      "Name: sanjay, dtype: object\n"
     ]
    }
   ],
   "source": [
    "# indexing a dataframe using .iloc[]:\n",
    "# it is similar to .loc[] but in this we are giving the position number of rows and columns\n",
    "# to display the 4th row of the data you need to give values as 3\n",
    "\n",
    "df=pd.read_csv(\"C:\\Book5.csv\",index_col=\"ENAME\")\n",
    "d1=df.iloc[3]\n",
    "print(d1)"
   ]
  },
  {
   "cell_type": "code",
   "execution_count": 39,
   "id": "54a3fbd6",
   "metadata": {},
   "outputs": [
    {
     "name": "stdout",
     "output_type": "stream",
     "text": [
      "          EMPID  SALARY         DOJ\n",
      "ENAME                              \n",
      "siva          1   15000   10/2/2002\n",
      "sandeep       3   54000    9/3/2002\n",
      "santhosh      5   17000  13/06/2010\n"
     ]
    }
   ],
   "source": [
    "# selecting multiple rows by using iloc[]:\n",
    "df=pd.read_csv(\"C:\\Book5.csv\",index_col=\"ENAME\")\n",
    "f1=df.iloc[[0,2,4]]\n",
    "print(f1)"
   ]
  },
  {
   "cell_type": "code",
   "execution_count": 40,
   "id": "42f265e1",
   "metadata": {},
   "outputs": [
    {
     "name": "stdout",
     "output_type": "stream",
     "text": [
      "        EMPID         DOJ\n",
      "ENAME                    \n",
      "sai         2   11/5/2003\n",
      "sanjay      4  16/12/1995\n"
     ]
    }
   ],
   "source": [
    "# selecting multiple rows and columns by using iloc[]:\n",
    "df=pd.read_csv(\"C:\\Book5.csv\",index_col=\"ENAME\")\n",
    "f1=df.iloc[[1,3],[0,2]]\n",
    "print(f1)"
   ]
  },
  {
   "cell_type": "code",
   "execution_count": 41,
   "id": "c7733e58",
   "metadata": {},
   "outputs": [
    {
     "name": "stdout",
     "output_type": "stream",
     "text": [
      "          EMPID  SALARY\n",
      "ENAME                  \n",
      "siva          1   15000\n",
      "sai           2   23000\n",
      "sandeep       3   54000\n",
      "sanjay        4   12500\n",
      "santhosh      5   17000\n",
      "srikanth      6    9000\n",
      "          EMPID  SALARY         DOJ\n",
      "ENAME                              \n",
      "siva          1   15000   10/2/2002\n",
      "sai           2   23000   11/5/2003\n",
      "sandeep       3   54000    9/3/2002\n",
      "sanjay        4   12500  16/12/1995\n",
      "santhosh      5   17000  13/06/2010\n",
      "srikanth      6    9000  24/09/1999\n"
     ]
    }
   ],
   "source": [
    "#selecting all rows and some columns by suing .iloc[]:\n",
    "df=pd.read_csv(\"C:\\Book5.csv\",index_col=\"ENAME\")\n",
    "h1=df.iloc[:,[0,1]]\n",
    "print(h1)\n",
    "g1=df.iloc[:,:]\n",
    "print(g1)"
   ]
  },
  {
   "cell_type": "code",
   "execution_count": 42,
   "id": "9482b329",
   "metadata": {},
   "outputs": [
    {
     "name": "stdout",
     "output_type": "stream",
     "text": [
      "a     15\n",
      "b    150\n",
      "dtype: int64\n"
     ]
    }
   ],
   "source": [
    "# statistics by pandas\n",
    "# to return the sum of values...\n",
    "hi={\n",
    "    \"a\":[1,2,3,4,5],\n",
    "    \"b\":[10,20,30,40,50]}\n",
    "df=pd.DataFrame(hi)\n",
    "print(df.sum())"
   ]
  },
  {
   "cell_type": "code",
   "execution_count": 43,
   "id": "cf1f0f3b",
   "metadata": {},
   "outputs": [
    {
     "name": "stdout",
     "output_type": "stream",
     "text": [
      "0    11\n",
      "1    22\n",
      "2    33\n",
      "3    44\n",
      "4    55\n",
      "dtype: int64\n"
     ]
    }
   ],
   "source": [
    "\n",
    "hi={\n",
    "    \"a\":[1,2,3,4,5],\n",
    "    \"b\":[10,20,30,40,50]}\n",
    "df=pd.DataFrame(hi)\n",
    "print(df.sum(1))"
   ]
  },
  {
   "cell_type": "markdown",
   "id": "21e6087c",
   "metadata": {},
   "source": [
    "## to calculate mean,median and mode\n",
    "hi={\n",
    "    \"a\":[1,2,3,4,5],\n",
    "    \"b\":[10,20,30,40,50]}\n",
    "df=pd.DataFrame(hi)\n",
    "mean_value=df.mean()\n",
    "median_value=df.median()\n",
    "mode_value1=df.mode().iloc[0]\n",
    "mode_value=df.mode()\n",
    "print(\"mean values are:\\n\",mean_value)\n",
    "print(\"median values are:\\n\",median_value)\n",
    "print(\"mode values are:\\n\",mode_value)"
   ]
  },
  {
   "cell_type": "code",
   "execution_count": 45,
   "id": "90124afc",
   "metadata": {},
   "outputs": [
    {
     "name": "stdout",
     "output_type": "stream",
     "text": [
      "correlation matrix:\n",
      "      a    b\n",
      "a  1.0  1.0\n",
      "b  1.0  1.0\n"
     ]
    }
   ],
   "source": [
    "# correlation matrix\n",
    "hi={\n",
    "    \"a\":[1,2,3,4,5],\n",
    "    \"b\":[10,20,30,40,50]}\n",
    "df=pd.DataFrame(hi)\n",
    "correlation_matrix=df.corr()\n",
    "print(\"correlation matrix:\\n\",correlation_matrix)"
   ]
  },
  {
   "cell_type": "code",
   "execution_count": 46,
   "id": "1cc780fc",
   "metadata": {},
   "outputs": [
    {
     "name": "stdout",
     "output_type": "stream",
     "text": [
      "a     1.581139\n",
      "b    15.811388\n",
      "dtype: float64\n"
     ]
    }
   ],
   "source": [
    "# to find standard deviation\n",
    "hi={\n",
    "    \"a\":[1,2,3,4,5],\n",
    "    \"b\":[10,20,30,40,50]}\n",
    "df=pd.DataFrame(hi)\n",
    "print(df.std())"
   ]
  },
  {
   "cell_type": "code",
   "execution_count": 47,
   "id": "4205e0be",
   "metadata": {},
   "outputs": [
    {
     "name": "stdout",
     "output_type": "stream",
     "text": [
      "             age  experinece      salary\n",
      "count   5.000000    5.000000    5.000000\n",
      "mean   40.000000    7.000000  700.000000\n",
      "std    15.811388    1.581139  158.113883\n",
      "min    20.000000    5.000000  500.000000\n",
      "25%    30.000000    6.000000  600.000000\n",
      "50%    40.000000    7.000000  700.000000\n",
      "75%    50.000000    8.000000  800.000000\n",
      "max    60.000000    9.000000  900.000000\n"
     ]
    }
   ],
   "source": [
    "# describe() function...\n",
    "san={\"age\":[20,30,40,50,60],\n",
    "     \"experinece\":[5,6,7,8,9],\n",
    "     \"salary\":[500,600,700,800,900]}\n",
    "df=pd.DataFrame(san)\n",
    "print(df.describe())"
   ]
  },
  {
   "cell_type": "code",
   "execution_count": 48,
   "id": "8324cd0f",
   "metadata": {},
   "outputs": [
    {
     "ename": "SyntaxError",
     "evalue": "invalid syntax (578678271.py, line 1)",
     "output_type": "error",
     "traceback": [
      "\u001b[1;36m  File \u001b[1;32m\"C:\\Users\\saimu\\AppData\\Local\\Temp\\ipykernel_5236\\578678271.py\"\u001b[1;36m, line \u001b[1;32m1\u001b[0m\n\u001b[1;33m    *** PART 1(PUSHPA THE RISE)COMPLETED***\u001b[0m\n\u001b[1;37m    ^\u001b[0m\n\u001b[1;31mSyntaxError\u001b[0m\u001b[1;31m:\u001b[0m invalid syntax\n"
     ]
    }
   ],
   "source": [
    "                               *** PART 1(PUSHPA THE RISE)COMPLETED***"
   ]
  }
 ],
 "metadata": {
  "kernelspec": {
   "display_name": "Python 3 (ipykernel)",
   "language": "python",
   "name": "python3"
  },
  "language_info": {
   "codemirror_mode": {
    "name": "ipython",
    "version": 3
   },
   "file_extension": ".py",
   "mimetype": "text/x-python",
   "name": "python",
   "nbconvert_exporter": "python",
   "pygments_lexer": "ipython3",
   "version": "3.12.4"
  }
 },
 "nbformat": 4,
 "nbformat_minor": 5
}
